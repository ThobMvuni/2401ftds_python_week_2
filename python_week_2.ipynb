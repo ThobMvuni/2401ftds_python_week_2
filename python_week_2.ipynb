{
 "cells": [
  {
   "cell_type": "markdown",
   "metadata": {},
   "source": [
    "# Python Week 2 Pod Session\n",
    "\n",
    "Lets work with git and github :) \n",
    "\n",
    "As well as some understanding of loops and conditionals. \n",
    "\n",
    "Please ensure you have retrieved this notebook by forking the following repository: https://github.com/marcmarais/2401ftds_python_week_2.git"
   ]
  },
  {
   "cell_type": "markdown",
   "metadata": {},
   "source": [
    "## Fizz, Buzz and FizzBuzz\n",
    "\n",
    "Write a Python program that iterates the integers from 1 to 50. For multiples of three print \"Fizz\" instead of the number and for multiples of five print \"Buzz\". For numbers that are multiples of three and five, print \"FizzBuzz\"."
   ]
  },
  {
   "cell_type": "code",
   "execution_count": null,
   "metadata": {},
   "outputs": [],
   "source": [
    "def fizz():\n",
    "    for i in range(1,50):\n",
    "        if i % 3 == 0:\n",
    "            print(\"Fizz\")\n",
    "        elif i % 5 == 0:\n",
    "            print(\"Buzz\")\n",
    "        elif i % 3 == 0 and i % 5 == 0:\n",
    "            print(\"FizzBuzz\")\n",
    "        else:\n",
    "            print(i)\n",
    "fizz()"
   ]
  }
 ],
 "metadata": {
  "language_info": {
   "name": "python"
  }
 },
 "nbformat": 4,
 "nbformat_minor": 2
}
